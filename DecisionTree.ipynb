{
  "nbformat": 4,
  "nbformat_minor": 0,
  "metadata": {
    "colab": {
      "provenance": [],
      "authorship_tag": "ABX9TyNGTqExeLS4KAeKh5mRw2FS",
      "include_colab_link": true
    },
    "kernelspec": {
      "name": "python3",
      "display_name": "Python 3"
    },
    "language_info": {
      "name": "python"
    }
  },
  "cells": [
    {
      "cell_type": "markdown",
      "metadata": {
        "id": "view-in-github",
        "colab_type": "text"
      },
      "source": [
        "<a href=\"https://colab.research.google.com/github/lucash-h/SENG474/blob/main/DecisionTree.ipynb\" target=\"_parent\"><img src=\"https://colab.research.google.com/assets/colab-badge.svg\" alt=\"Open In Colab\"/></a>"
      ]
    },
    {
      "cell_type": "code",
      "execution_count": 1,
      "metadata": {
        "colab": {
          "base_uri": "https://localhost:8080/"
        },
        "id": "lrooPSTNK6-b",
        "outputId": "b3215780-970d-4c62-8673-26c584ce7a26"
      },
      "outputs": [
        {
          "output_type": "stream",
          "name": "stdout",
          "text": [
            "Mounted at /content/drive\n"
          ]
        }
      ],
      "source": [
        "from google.colab import drive\n",
        "\n",
        "drive.mount('/content/drive')"
      ]
    },
    {
      "cell_type": "code",
      "source": [
        "import pandas as pd"
      ],
      "metadata": {
        "id": "DeBDXs7VVBZS"
      },
      "execution_count": 2,
      "outputs": []
    },
    {
      "cell_type": "code",
      "source": [
        "file_path = '/content/drive/MyDrive/Colab Notebooks/SENG 474/Assignment1/spambase_augmented.csv'\n",
        "df = pd.read_csv(file_path)"
      ],
      "metadata": {
        "id": "ZZR6HG9lVD22"
      },
      "execution_count": 87,
      "outputs": []
    },
    {
      "cell_type": "code",
      "source": [
        "print(df.head())"
      ],
      "metadata": {
        "colab": {
          "base_uri": "https://localhost:8080/"
        },
        "id": "toXpyDTXVw5G",
        "outputId": "6df62cf9-d936-4ae3-ec1b-4789a14ed373"
      },
      "execution_count": 88,
      "outputs": [
        {
          "output_type": "stream",
          "name": "stdout",
          "text": [
            "   0.000  0.640  0.640.1  0.000.1  0.320  0.000.2  0.000.3  0.000.4  0.000.5  \\\n",
            "0   0.21   0.28     0.50      0.0   0.14     0.28     0.21     0.07     0.00   \n",
            "1   0.06   0.00     0.71      0.0   1.23     0.19     0.19     0.12     0.64   \n",
            "2   0.00   0.00     0.00      0.0   0.63     0.00     0.31     0.63     0.31   \n",
            "3   0.00   0.00     0.00      0.0   0.63     0.00     0.31     0.63     0.31   \n",
            "4   0.00   0.00     0.00      0.0   1.85     0.00     0.00     1.85     0.00   \n",
            "\n",
            "   0.000.6  ...  0.000.816  0.000.817  0.000.818  0.000.819  0.000.820  \\\n",
            "0     0.94  ...       0.00        0.0        0.0       0.00       0.00   \n",
            "1     0.25  ...       0.06        0.0        0.0       0.12       0.06   \n",
            "2     0.63  ...       0.00        0.0        0.0       0.00       0.00   \n",
            "3     0.63  ...       0.00        0.0        0.0       0.00       0.00   \n",
            "4     0.00  ...       0.00        0.0        0.0       0.00       0.00   \n",
            "\n",
            "   0.000.821  0.000.822  0.000.823  0.000.824  1  \n",
            "0       0.00       0.00       0.00        0.0  1  \n",
            "1       0.06       0.06       0.06        0.0  1  \n",
            "2       0.00       0.00       0.00        0.0  1  \n",
            "3       0.00       0.00       0.00        0.0  1  \n",
            "4       0.00       0.00       0.00        0.0  1  \n",
            "\n",
            "[5 rows x 1186 columns]\n"
          ]
        }
      ]
    },
    {
      "cell_type": "code",
      "source": [
        "#now to split data into vectors\n",
        "#each has 48 features of the frequency of some word\n",
        "#this dataset has the original 57 features and a new feature for every pair of the 48 words and for any pair of words, the new feature is the sum of those words frequencies\n",
        "#that means that there is 2^48 + 58 features? subract like pairs\n",
        "#column asp is # 1186 so yea\n",
        "#so vectors will be 1 * 1186 what the fuck\n",
        "\n"
      ],
      "metadata": {
        "id": "o7dzMVncV9Vy"
      },
      "execution_count": 89,
      "outputs": []
    },
    {
      "cell_type": "code",
      "source": [
        "import numpy as np\n",
        "\n",
        "np.shape(df)"
      ],
      "metadata": {
        "colab": {
          "base_uri": "https://localhost:8080/"
        },
        "id": "ebSzvC9lXGk_",
        "outputId": "37d7398f-2e1a-4382-a258-65a13df50c8a"
      },
      "execution_count": 90,
      "outputs": [
        {
          "output_type": "execute_result",
          "data": {
            "text/plain": [
              "(4600, 1186)"
            ]
          },
          "metadata": {},
          "execution_count": 90
        }
      ]
    },
    {
      "cell_type": "code",
      "source": [
        "\n",
        "#split into training/test data  ***might be worth adding labels ie last col***\n",
        "#maybe randomize later\n",
        "#3640-> train\n",
        "#960 -> test\n",
        "x = df.iloc[:,:-1] #features\n",
        "y = df.iloc[:,-1] #label/last col\n",
        "\n",
        "x_train = x[:3640]\n",
        "y_train = y[:3640]\n",
        "print(np.shape(x_train))\n",
        "print(np.shape(y_train))\n",
        "\n",
        "x_test = x[3640:]\n",
        "y_test = y[3640:]\n",
        "print(np.shape(x_test))\n",
        "print(np.shape(y_test))"
      ],
      "metadata": {
        "id": "4bsOpI9MYKYK",
        "colab": {
          "base_uri": "https://localhost:8080/"
        },
        "outputId": "5b4e205c-d47a-43ed-96d1-4ea4a01a2a31"
      },
      "execution_count": 91,
      "outputs": [
        {
          "output_type": "stream",
          "name": "stdout",
          "text": [
            "(3640, 1185)\n",
            "(3640,)\n",
            "(960, 1185)\n",
            "(960,)\n"
          ]
        }
      ]
    },
    {
      "cell_type": "code",
      "source": [
        "from sklearn.model_selection import train_test_split"
      ],
      "metadata": {
        "id": "YfpQwQysF4Ib"
      },
      "execution_count": 92,
      "outputs": []
    },
    {
      "cell_type": "code",
      "source": [
        "x = df.iloc[:,:-1] #features\n",
        "y = df.iloc[:,-1] #label/last col"
      ],
      "metadata": {
        "id": "TvCeaU_lYLlB"
      },
      "execution_count": 93,
      "outputs": []
    },
    {
      "cell_type": "code",
      "source": [
        "print(x.shape)\n",
        "print(y.shape)"
      ],
      "metadata": {
        "colab": {
          "base_uri": "https://localhost:8080/"
        },
        "id": "in3B6BIoc9et",
        "outputId": "ad0f19b5-3778-4b2d-a9d4-4b2c671ad77c"
      },
      "execution_count": 94,
      "outputs": [
        {
          "output_type": "stream",
          "name": "stdout",
          "text": [
            "(4600, 1185)\n",
            "(4600,)\n"
          ]
        }
      ]
    },
    {
      "cell_type": "code",
      "source": [
        "print(x.iloc[0])"
      ],
      "metadata": {
        "colab": {
          "base_uri": "https://localhost:8080/"
        },
        "id": "kbXqgBbrdI0T",
        "outputId": "cb8585b0-0c01-4eba-d84a-5815a97f996e"
      },
      "execution_count": 95,
      "outputs": [
        {
          "output_type": "stream",
          "name": "stdout",
          "text": [
            "0.000        0.21\n",
            "0.640        0.28\n",
            "0.640.1      0.50\n",
            "0.000.1      0.00\n",
            "0.320        0.14\n",
            "             ... \n",
            "0.000.820    0.00\n",
            "0.000.821    0.00\n",
            "0.000.822    0.00\n",
            "0.000.823    0.00\n",
            "0.000.824    0.00\n",
            "Name: 0, Length: 1185, dtype: float64\n"
          ]
        }
      ]
    },
    {
      "cell_type": "code",
      "source": [
        "print(y.iloc[0])"
      ],
      "metadata": {
        "colab": {
          "base_uri": "https://localhost:8080/"
        },
        "id": "WDivqW_OdZcH",
        "outputId": "9bb01ee0-c19e-4646-f0ae-1c1eb55519c4"
      },
      "execution_count": 96,
      "outputs": [
        {
          "output_type": "stream",
          "name": "stdout",
          "text": [
            "1\n"
          ]
        }
      ]
    },
    {
      "cell_type": "code",
      "source": [
        "x_train, x_test, y_train, y_test = train_test_split(x,y, train_size=0.8, random_state=None, shuffle=True, stratify=None)"
      ],
      "metadata": {
        "id": "Z4GlKdDzF2f6"
      },
      "execution_count": 97,
      "outputs": []
    },
    {
      "cell_type": "code",
      "source": [
        "print(x_train.shape)\n",
        "print(y_train.shape)\n",
        "print(x_test.shape)\n",
        "print(y_test.shape)"
      ],
      "metadata": {
        "colab": {
          "base_uri": "https://localhost:8080/"
        },
        "id": "QRZu61RkbNPD",
        "outputId": "2918130c-095a-43f8-bb33-5211f2d53334"
      },
      "execution_count": 98,
      "outputs": [
        {
          "output_type": "stream",
          "name": "stdout",
          "text": [
            "(3680, 1185)\n",
            "(3680,)\n",
            "(920, 1185)\n",
            "(920,)\n"
          ]
        }
      ]
    },
    {
      "cell_type": "code",
      "source": [
        "from sklearn.tree import DecisionTreeClassifier"
      ],
      "metadata": {
        "id": "G4plfbBVnowA"
      },
      "execution_count": 99,
      "outputs": []
    },
    {
      "cell_type": "code",
      "source": [
        "import matplotlib.pyplot as plt"
      ],
      "metadata": {
        "id": "z8-ruuJSu_JE"
      },
      "execution_count": 100,
      "outputs": []
    },
    {
      "cell_type": "code",
      "source": [
        "from sklearn.tree import plot_tree\n",
        "from sklearn import tree\n"
      ],
      "metadata": {
        "id": "3zcmoHn_viM1"
      },
      "execution_count": 101,
      "outputs": []
    },
    {
      "cell_type": "code",
      "source": [
        "#left child -> left_child_index = dtc.tree_.children_left[0]\n",
        "#right child -> right_child_index = dtc.tree_.children_right[0]"
      ],
      "metadata": {
        "id": "cKLo4hMBvple"
      },
      "execution_count": 102,
      "outputs": []
    },
    {
      "cell_type": "code",
      "source": [
        "import copy"
      ],
      "metadata": {
        "id": "ajXgr0j4YCaH"
      },
      "execution_count": 103,
      "outputs": []
    },
    {
      "cell_type": "markdown",
      "source": [
        "Create mega tree <br>\n",
        "Go through every node from the bottom <br>\n",
        "at each node, remove it and it's children and compare the accuracy of the full tree with and without it <br>\n",
        "record the accuracy(maybe regardless, would make life easier)<br>\n",
        "Go until you reach the root node<br>\n",
        "then find the tree with the greatest accuracy <br>\n",
        "\n",
        "algo (node) :\n",
        "Assuming you already have the accuracy measure for tree<br>\n",
        "curr = node <br>\n",
        "curr.left = null<br>\n",
        "curr.right = null <br>\n",
        "curr = null <br>\n",
        "\n",
        "### should probably do it recursively but general idea is there I think -> for reduced error pruning"
      ],
      "metadata": {
        "id": "BBvILCdCxUbk"
      }
    },
    {
      "cell_type": "code",
      "source": [
        "from sklearn import tree\n",
        "from sklearn.base import clone"
      ],
      "metadata": {
        "id": "bgVY4Veao1pl"
      },
      "execution_count": 104,
      "outputs": []
    },
    {
      "cell_type": "code",
      "source": [
        "dtc = DecisionTreeClassifier(criterion=\"gini\", random_state=0).fit(x_train, y_train)  # Exclude the target column name\n",
        "cloned = clone(dtc).fit(x_train,y_train)\n",
        "\n"
      ],
      "metadata": {
        "id": "xGgpCo5eDn6O"
      },
      "execution_count": 105,
      "outputs": []
    },
    {
      "cell_type": "code",
      "source": [
        "accuracy_before_pruning = dtc.score(x_test, y_test)\n",
        "print(\"Accuracy before pruning:\", accuracy_before_pruning)"
      ],
      "metadata": {
        "colab": {
          "base_uri": "https://localhost:8080/"
        },
        "id": "zF0spiz9EWIE",
        "outputId": "a3d6f50d-4f82-410a-b86f-b9d5a2f0e3a7"
      },
      "execution_count": 106,
      "outputs": [
        {
          "output_type": "stream",
          "name": "stdout",
          "text": [
            "Accuracy before pruning: 0.9195652173913044\n"
          ]
        }
      ]
    },
    {
      "cell_type": "code",
      "source": [
        "def is_leaf(model, index):\n",
        "  if ((model.tree_.children_left[index] == -1) & (model.tree_.children_right[index] == -1)) :\n",
        "    return True\n",
        "  else:\n",
        "    return False"
      ],
      "metadata": {
        "id": "FXM9_Eoh_WfL"
      },
      "execution_count": 107,
      "outputs": []
    },
    {
      "cell_type": "code",
      "source": [
        "print(is_leaf(dtc, 1),\n",
        "is_leaf(dtc, 320),\n",
        "is_leaf(dtc, 160)\n",
        ")"
      ],
      "metadata": {
        "colab": {
          "base_uri": "https://localhost:8080/"
        },
        "id": "IbT9vkhH_23t",
        "outputId": "c75f7b8f-dde4-415d-fcb7-888c9d574427"
      },
      "execution_count": 108,
      "outputs": [
        {
          "output_type": "stream",
          "name": "stdout",
          "text": [
            "False True True\n"
          ]
        }
      ]
    },
    {
      "cell_type": "code",
      "source": [
        "def prune_tree(model, index, x_value, y_value):\n",
        "     # Base case: If the node is a leaf, do nothing\n",
        "    if is_leaf(dtc, index):\n",
        "      return\n",
        "\n",
        "    # Children check\n",
        "    prune_tree(model, model.tree_.children_left[index], x_value, y_value)\n",
        "    prune_tree(model, model.tree_.children_right[index], x_value, y_value)\n",
        "\n",
        "    # Set both children to -1 to \"remove\" the subtree\n",
        "    model.tree_.children_left[index] = -1\n",
        "    model.tree_.children_right[index] = -1\n",
        "\n",
        "    #CHANGED MIGHT HAVE BLOWN IT UP\n",
        "    #keep track of children\n",
        "    prev_left_child = model.tree_.children_left[index]\n",
        "    prev_right_child = model.tree_.children_right[index]\n",
        "\n",
        "    #measure accuracy here for og tree\n",
        "    current_accuracy = model.score(x_value, y_value)\n",
        "    #make them leaf nodes\n",
        "    model.tree_.children_left[index] = -1\n",
        "    model.tree_.children_right[index] = -1\n",
        "\n",
        "    new_accuracy = model.score(x_value, y_value)\n",
        "\n",
        "    #measure accuracy for changed tree\n",
        "\n",
        "    if(new_accuracy < current_accuracy): #if pruning doesn't improve accuracy add children back\n",
        "      model.tree_.children_left[index] = prev_left_child\n",
        "      model.tree_.children_right[index] = prev_right_child\n",
        "    return model"
      ],
      "metadata": {
        "id": "A9_qmgZhRAlN"
      },
      "execution_count": 109,
      "outputs": []
    },
    {
      "cell_type": "code",
      "source": [
        "def print_model(model):\n",
        "  plt.figure(figsize=(23, 23))\n",
        "  plot_tree(model, filled=True)\n",
        "  plt.show()"
      ],
      "metadata": {
        "id": "jln7zCtkmZuu"
      },
      "execution_count": 110,
      "outputs": []
    },
    {
      "cell_type": "code",
      "source": [
        "new = prune_tree(cloned, 0, x_train, y_train)\n",
        "acc1 = dtc.score(x_test, y_test)\n",
        "acc2 = new.score(x_test, y_test)"
      ],
      "metadata": {
        "id": "A5vle2IcnxnK"
      },
      "execution_count": 111,
      "outputs": []
    },
    {
      "cell_type": "code",
      "source": [
        "print(acc1, acc2)"
      ],
      "metadata": {
        "id": "cr1FeB5h4JcM",
        "colab": {
          "base_uri": "https://localhost:8080/"
        },
        "outputId": "08353af5-1df8-4673-b74f-3f44c922df39"
      },
      "execution_count": 112,
      "outputs": [
        {
          "output_type": "stream",
          "name": "stdout",
          "text": [
            "0.9195652173913044 0.6\n"
          ]
        }
      ]
    },
    {
      "cell_type": "code",
      "source": [],
      "metadata": {
        "id": "59415CD2eibB"
      },
      "execution_count": 112,
      "outputs": []
    }
  ]
}